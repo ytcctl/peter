{
 "cells": [
  {
   "cell_type": "code",
   "execution_count": null,
   "id": "7b18a35d",
   "metadata": {},
   "outputs": [],
   "source": [
    "!apt-get install davfs2"
   ]
  },
  {
   "cell_type": "code",
   "execution_count": null,
   "id": "007dd5e1",
   "metadata": {},
   "outputs": [],
   "source": [
    "from google.colab import drive\n",
    "drive.mount('/content/drive')"
   ]
  },
  {
   "cell_type": "code",
   "execution_count": null,
   "id": "d20f72fc",
   "metadata": {},
   "outputs": [],
   "source": [
    "!mkdir /content/HKU"
   ]
  },
  {
   "cell_type": "code",
   "execution_count": null,
   "id": "96a3f151",
   "metadata": {},
   "outputs": [],
   "source": [
    "!mount -t davfs https://shltd1016.synology.me:5006/Book_New/01__Book_1/00_HKU /content/HKU/"
   ]
  },
  {
   "cell_type": "code",
   "execution_count": null,
   "id": "12c7e83d",
   "metadata": {},
   "outputs": [],
   "source": [
    "!mount -t davfs -o username=\"peterchoi\",passwd=\"ytcctl1016\" \"https://shltd1016.synology.me:5006/Book_New/01__Book_1/00_MIT Computer Science\" /content/Book/"
   ]
  }
 ],
 "metadata": {
  "kernelspec": {
   "display_name": "Python 3",
   "language": "python",
   "name": "python3"
  },
  "language_info": {
   "name": "python",
   "version": "3.10.12"
  }
 },
 "nbformat": 4,
 "nbformat_minor": 5
}
