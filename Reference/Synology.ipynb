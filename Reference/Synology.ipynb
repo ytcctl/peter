{
 "cells": [
  {
   "cell_type": "code",
   "execution_count": 2,
   "id": "7b18a35d",
   "metadata": {},
   "outputs": [
    {
     "name": "stdout",
     "output_type": "stream",
     "text": [
      "Reading package lists... Done\n",
      "Building dependency tree... Done\n",
      "Reading state information... Done\n",
      "Package davfs2 is not available, but is referred to by another package.\n",
      "This may mean that the package is missing, has been obsoleted, or\n",
      "is only available from another source\n",
      "\n",
      "E: Package 'davfs2' has no installation candidate\n"
     ]
    }
   ],
   "source": [
    "!sudo apt-get install davfs2"
   ]
  },
  {
   "cell_type": "code",
   "execution_count": null,
   "id": "007dd5e1",
   "metadata": {},
   "outputs": [],
   "source": [
    "from google.colab import drive\n",
    "drive.mount('/content/drive')"
   ]
  },
  {
   "cell_type": "code",
   "execution_count": null,
   "id": "d20f72fc",
   "metadata": {},
   "outputs": [],
   "source": [
    "!mkdir /content/HKU"
   ]
  },
  {
   "cell_type": "code",
   "execution_count": 4,
   "id": "96a3f151",
   "metadata": {},
   "outputs": [
    {
     "name": "stdout",
     "output_type": "stream",
     "text": [
      "Please enter the username to authenticate with server\n",
      "https://shltd1016.synology.me:5006/Book_New/01__Book_1/00_HKU/FITE7410 Financial fraud analytics 2025 or hit enter for none.\n",
      "  Username: "
     ]
    }
   ],
   "source": [
    "!sudo mount -t davfs \"https://shltd1016.synology.me:5006/Book_New/01__Book_1/00_HKU/FITE7410 Financial fraud analytics 2025\" /workspaces/peter/FITE7410/ "
   ]
  },
  {
   "cell_type": "code",
   "execution_count": null,
   "id": "12c7e83d",
   "metadata": {},
   "outputs": [],
   "source": [
    "!mount -t davfs -o username=\"peterchoi\",passwd=\"ytcctl1016\" \"https://shltd1016.synology.me:5006/Book_New/01__Book_1/00_MIT Computer Science\" /content/Book/"
   ]
  },
  {
   "cell_type": "code",
   "execution_count": null,
   "id": "c9fd510d",
   "metadata": {},
   "outputs": [],
   "source": [
    "rclone copy synology2:\"Book_New/01__Book_1/00_HKU/FITE7410 Financial fraud analytics 2025\" /workspaces/peter/FITE7410/ --progress -v"
   ]
  }
 ],
 "metadata": {
  "kernelspec": {
   "display_name": "Python 3",
   "language": "python",
   "name": "python3"
  },
  "language_info": {
   "codemirror_mode": {
    "name": "ipython",
    "version": 3
   },
   "file_extension": ".py",
   "mimetype": "text/x-python",
   "name": "python",
   "nbconvert_exporter": "python",
   "pygments_lexer": "ipython3",
   "version": "3.10.12"
  }
 },
 "nbformat": 4,
 "nbformat_minor": 5
}
