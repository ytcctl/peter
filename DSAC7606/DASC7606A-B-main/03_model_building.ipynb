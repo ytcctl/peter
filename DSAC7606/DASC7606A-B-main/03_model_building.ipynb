{
 "cells": [
  {
   "cell_type": "markdown",
   "metadata": {},
   "source": [
    "# SimpleCNN Model Inspection\n",
    "\n",
    "This notebook focuses on inspecting and analyzing the SimpleCNN architecture for our image classification task.\n",
    "\n",
    "We will examine:\n",
    "1. **Model Structure**: Layer-by-layer breakdown of the SimpleCNN architecture\n",
    "2. **Parameter Count**: Analysis of the model's complexity and memory requirements\n",
    "3. **Feature Maps**: Visualization of the model's internal representations"
   ]
  },
  {
   "cell_type": "markdown",
   "metadata": {},
   "source": [
    "## 1. Setup and Imports\n",
    "\n",
    "First, we'll import the necessary libraries to inspect the SimpleCNN model and configure our computing device (GPU or CPU)."
   ]
  },
  {
   "cell_type": "code",
   "execution_count": null,
   "metadata": {},
   "outputs": [],
   "source": [
    "import torch\n",
    "from torchsummary import summary\n",
    "\n",
    "# Import custom model architectures from the scripts folder\n",
    "from scripts.model_architectures import SimpleCNN\n"
   ]
  },
  {
   "cell_type": "markdown",
   "metadata": {},
   "source": [
    "### Configure Device"
   ]
  },
  {
   "cell_type": "code",
   "execution_count": null,
   "metadata": {},
   "outputs": [],
   "source": [
    "# Check for CUDA availability to leverage GPU acceleration\n",
    "device = torch.device(\"cuda\" if torch.cuda.is_available() else \"cpu\")\n",
    "print(f\"Using device: {device}\")\n"
   ]
  },
  {
   "cell_type": "markdown",
   "metadata": {},
   "source": [
    "## 2. SimpleCNN Model Analysis\n",
    "\n",
    "Now, let's instantiate the SimpleCNN model and examine its structure and complexity in detail."
   ]
  },
  {
   "cell_type": "markdown",
   "metadata": {},
   "source": [
    "### 2.1. SimpleCNN Architecture\n",
    "\n",
    "The SimpleCNN model features a sequence of convolutional layers followed by fully connected layers. Let's examine its architecture, parameter distribution, and overall complexity."
   ]
  },
  {
   "cell_type": "code",
   "execution_count": null,
   "metadata": {},
   "outputs": [],
   "source": [
    "simple_model = SimpleCNN(num_classes=10).to(device)\n",
    "\n",
    "# Print model summary\n",
    "print(\"--- Simple CNN Summary ---\")\n",
    "summary(simple_model, input_size=(3, 32, 32))\n"
   ]
  }
 ],
 "metadata": {
  "kernelspec": {
   "display_name": ".venv",
   "language": "python",
   "name": "python3"
  },
  "language_info": {
   "codemirror_mode": {
    "name": "ipython",
    "version": 3
   },
   "file_extension": ".py",
   "mimetype": "text/x-python",
   "name": "python",
   "nbconvert_exporter": "python",
   "pygments_lexer": "ipython3",
   "version": "3.13.5"
  }
 },
 "nbformat": 4,
 "nbformat_minor": 4
}
