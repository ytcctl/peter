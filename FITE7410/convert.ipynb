{
 "cells": [
  {
   "cell_type": "code",
   "execution_count": 2,
   "id": "8ba85af9",
   "metadata": {
    "vscode": {
     "languageId": "r"
    }
   },
   "outputs": [],
   "source": [
    ".libPaths(\"~/R/library\")\n"
   ]
  },
  {
   "cell_type": "code",
   "execution_count": 3,
   "id": "e409b8b5",
   "metadata": {
    "vscode": {
     "languageId": "r"
    }
   },
   "outputs": [
    {
     "name": "stderr",
     "output_type": "stream",
     "text": [
      "also installing the dependencies ‘rappdirs’, ‘cachem’, ‘memoise’, ‘mime’, ‘sass’, ‘bslib’, ‘fontawesome’, ‘jquerylib’, ‘tinytex’\n",
      "\n",
      "\n"
     ]
    }
   ],
   "source": [
    "install.packages(c(\"rmarkdown\", \"knitr\", \"xfun\"), \n",
    "                 lib = \"~/R/library\",\n",
    "                 repos = \"https://cran.r-project.org\")"
   ]
  }
 ],
 "metadata": {
  "kernelspec": {
   "display_name": "R",
   "language": "R",
   "name": "ir"
  },
  "language_info": {
   "codemirror_mode": "r",
   "file_extension": ".r",
   "mimetype": "text/x-r-source",
   "name": "R",
   "pygments_lexer": "r",
   "version": "4.3.2"
  }
 },
 "nbformat": 4,
 "nbformat_minor": 5
}
