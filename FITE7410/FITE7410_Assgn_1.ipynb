{
 "cells": [
  {
   "cell_type": "code",
   "execution_count": 8,
   "id": "49e4c982",
   "metadata": {
    "vscode": {
     "languageId": "r"
    }
   },
   "outputs": [
    {
     "ename": "ERROR",
     "evalue": "Error in library(dplyr): there is no package called ‘dplyr’\n",
     "output_type": "error",
     "traceback": [
      "Error in library(dplyr): there is no package called ‘dplyr’\nTraceback:\n",
      "1. stop(packageNotFoundError(package, lib.loc, sys.call()))"
     ]
    }
   ],
   "source": [
    "# FITE7410 Financial Fraud Analytics First Semester, 2025-2026 -----------------\n",
    "# Assignnment 1 Exploratory Data Analysis (EDA)\n",
    "# Student: Choi Chi For 3036384024\n",
    "# Due Date: 19 Oct, 2025 (Sun) 23:59\n",
    "# Objective of this assignment:\n",
    "# 1. Perform data cleaning and preparation\n",
    "# 2. Explore and visualize the data to identify patterns and trends\n",
    "# 3. Engineer new features based on domain knowledge or insights from EDA\n",
    "# 4. Prepare a report summarizing the findings from EDA\n",
    "\n",
    "# Load necessary libraries -----------------------\n",
    "library(dplyr)\n",
    "library(tidyr)\n",
    "library(ggplot2)\n",
    "library(corrplot)\n",
    "library(tidyverse)  "
   ]
  },
  {
   "cell_type": "code",
   "execution_count": 12,
   "id": "c45ce7ce",
   "metadata": {
    "vscode": {
     "languageId": "r"
    }
   },
   "outputs": [
    {
     "name": "stdout",
     "output_type": "stream",
     "text": [
      "Original string: # Load necessary libraries ------------------------------------------------------------------- \n",
      "String length: 94 \n",
      "\n",
      "Method 1 - substr(string, 1, 80):\n",
      "Result: # Load necessary libraries ----------------------------------------------------- \n",
      "Length: 80 \n",
      "\n",
      "String length: 94 \n",
      "\n",
      "Method 1 - substr(string, 1, 80):\n",
      "Result: # Load necessary libraries ----------------------------------------------------- \n",
      "Length: 80 \n",
      "\n",
      "Method 2 - substring(string, 1, 80):\n",
      "Result: # Load necessary libraries ----------------------------------------------------- \n",
      "\n",
      "Method 2 - substring(string, 1, 80):\n",
      "Result: # Load necessary libraries ----------------------------------------------------- \n",
      "\n",
      "Method 3 - str_sub(string, 1, 80) from stringr:\n",
      "Method 3 - str_sub(string, 1, 80) from stringr:\n"
     ]
    },
    {
     "name": "stdout",
     "output_type": "stream",
     "text": [
      "Result: # Load necessary libraries ----------------------------------------------------- \n",
      "\n",
      "Method 4 - str_sub(string, -20, -1) - last 20 chars:\n",
      "Result: -------------------- \n",
      "Method 4 - str_sub(string, -20, -1) - last 20 chars:\n",
      "Result: -------------------- \n"
     ]
    }
   ],
   "source": [
    "# R Functions for Substring Operations\n",
    "\n",
    "string1 <- \"# Load necessary libraries\" \n",
    "string2 <- \"-------------------------------------------------------------------\"\n",
    "full_string <- paste(string1, string2)\n",
    "\n",
    "cat(\"Original string:\", full_string, \"\\n\")\n",
    "cat(\"String length:\", nchar(full_string), \"\\n\\n\")\n",
    "\n",
    "# Method 1: substr() - Extract substring by position\n",
    "left_80_chars <- substr(full_string, 1, 80)\n",
    "cat(\"Method 1 - substr(string, 1, 80):\\n\")\n",
    "cat(\"Result:\", left_80_chars, \"\\n\")\n",
    "cat(\"Length:\", nchar(left_80_chars), \"\\n\\n\")\n",
    "\n",
    "# Method 2: substring() - Similar to substr() but vectorized\n",
    "left_80_chars2 <- substring(full_string, 1, 80)\n",
    "cat(\"Method 2 - substring(string, 1, 80):\\n\")\n",
    "cat(\"Result:\", left_80_chars2, \"\\n\\n\")\n",
    "\n",
    "# Method 3: Using stringr package (part of tidyverse)\n",
    "library(stringr)\n",
    "left_80_chars3 <- str_sub(full_string, 1, 80)\n",
    "cat(\"Method 3 - str_sub(string, 1, 80) from stringr:\\n\")\n",
    "cat(\"Result:\", left_80_chars3, \"\\n\\n\")\n",
    "\n",
    "# Method 4: Extract from right side (last 20 characters)\n",
    "right_20_chars <- str_sub(full_string, -20, -1)\n",
    "cat(\"Method 4 - str_sub(string, -20, -1) - last 20 chars:\\n\")\n",
    "cat(\"Result:\", right_20_chars, \"\\n\")"
   ]
  },
  {
   "cell_type": "code",
   "execution_count": 7,
   "id": "a053ac01",
   "metadata": {
    "vscode": {
     "languageId": "r"
    }
   },
   "outputs": [
    {
     "name": "stdout",
     "output_type": "stream",
     "text": [
      "Method 1 - paste(): Hello World \n",
      "Method 2 - paste0(): HelloWorld \n",
      "Method 3 - paste() with separator: Hello-World \n",
      "Method 4 - Multiple strings: Hello World from R \n",
      "Method 5 - Collapse vector: apple, banana, cherry \n",
      "Method 6 - sprintf(): My name is John and I am 25 years old \n",
      "Assignment example: Student: Choi Chi For ID: 3036384024 \n"
     ]
    }
   ],
   "source": [
    "# String Concatenation in R - Different Methods\n",
    "\n",
    "# Method 1: paste() function (most common)\n",
    "string1 <- \"Hello\"\n",
    "string2 <- \"World\"\n",
    "result1 <- paste(string1, string2)\n",
    "cat(\"Method 1 - paste():\", result1, \"\\n\")\n",
    "\n",
    "# Method 2: paste0() function (no separator)\n",
    "result2 <- paste0(string1, string2)\n",
    "cat(\"Method 2 - paste0():\", result2, \"\\n\")\n",
    "\n",
    "# Method 3: paste() with custom separator\n",
    "result3 <- paste(string1, string2, sep = \"-\")\n",
    "cat(\"Method 3 - paste() with separator:\", result3, \"\\n\")\n",
    "\n",
    "# Method 4: Concatenating multiple strings\n",
    "string3 <- \"from\"\n",
    "string4 <- \"R\"\n",
    "result4 <- paste(string1, string2, string3, string4)\n",
    "cat(\"Method 4 - Multiple strings:\", result4, \"\\n\")\n",
    "\n",
    "# Method 5: paste() with collapse (for vectors)\n",
    "string_vector <- c(\"apple\", \"banana\", \"cherry\")\n",
    "result5 <- paste(string_vector, collapse = \", \")\n",
    "cat(\"Method 5 - Collapse vector:\", result5, \"\\n\")\n",
    "\n",
    "# Method 6: sprintf() for formatted strings (like printf)\n",
    "name <- \"John\"\n",
    "age <- 25\n",
    "result6 <- sprintf(\"My name is %s and I am %d years old\", name, age)\n",
    "cat(\"Method 6 - sprintf():\", result6, \"\\n\")\n",
    "\n",
    "# Practical example for your assignment\n",
    "student_name <- \"Choi Chi For\"\n",
    "student_id <- \"3036384024\"\n",
    "assignment_info <- paste(\"Student:\", student_name, \"ID:\", student_id, sep = \" \")\n",
    "cat(\"Assignment example:\", assignment_info, \"\\n\")"
   ]
  },
  {
   "cell_type": "markdown",
   "id": "19835a6c",
   "metadata": {},
   "source": []
  }
 ],
 "metadata": {
  "kernelspec": {
   "display_name": "R",
   "language": "R",
   "name": "ir"
  },
  "language_info": {
   "codemirror_mode": "r",
   "file_extension": ".r",
   "mimetype": "text/x-r-source",
   "name": "R",
   "pygments_lexer": "r",
   "version": "4.3.2"
  }
 },
 "nbformat": 4,
 "nbformat_minor": 5
}
