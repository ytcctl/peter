{
 "cells": [
  {
   "cell_type": "code",
   "execution_count": null,
   "id": "89341d47",
   "metadata": {
    "vscode": {
     "languageId": "r"
    }
   },
   "outputs": [],
   "source": [
    "#FITE7410 Financial Fraud Analytics First Semester, 2025-2026 \n",
    "# Assignnment 1 Exploratory Data Analysis (EDA)\n",
    "# Student: Choi Chi For 3036384024\n",
    "# Due Date: 19 Oct, 2025 (Sun) 23:59\n",
    "# Objective of this assignment:\n",
    "# 1. Perform data cleaning and preparation\n",
    "# 2. Explore and visualize the data to identify patterns and trends\n",
    "# 3. Engineer new features based on domain knowledge or insights from EDA\n",
    "# 4. Prepare a report summarizing the findings from EDA\n",
    "\n",
    "# Load necessary libraries -----------------------\n",
    "install.packages(\"dplyr\")\n",
    "install.packages(\"tidyr\")\n",
    "install.packages(\"ggplot2\")\n",
    "install.packages(\"corrplot\")\n",
    "install.packages(\"tidyverse\")\n",
    "library(dplyr)\n",
    "library(tidyr)\n",
    "library(ggplot2)\n",
    "library(corrplot)\n",
    "library(tidyverse)  \n",
    "\n",
    "# build the necessary functions -----------------------\n",
    "get_mode <- function(aVector) {\n",
    "  uniqv <- unique(aVector)\n",
    "  uniqv[which.max(tabulate(match(aVector, uniqv)))]\n",
    "}\n",
    "\n",
    "# Load Data -----------------------\n",
    "tryCatch({\n",
    "  data <- read.csv(\"A1_data.csv\")\n",
    "}, warning = function(w) {\n",
    "  print(w)\n",
    "}, error = function(e) {\n",
    "  print(e)\n",
    "}, finally = {\n",
    "print(\"Data loading attempt finished.\")\n",
    "})\n",
    "\n",
    "#str(data)\n",
    "\n",
    "aSummary <- data.frame(summary(data))\n",
    "aSummary"
   ]
  },
  {
   "cell_type": "markdown",
   "id": "19835a6c",
   "metadata": {},
   "source": []
  }
 ],
 "metadata": {
  "kernelspec": {
   "display_name": "R",
   "language": "R",
   "name": "ir"
  },
  "language_info": {
   "name": "R"
  }
 },
 "nbformat": 4,
 "nbformat_minor": 5
}
