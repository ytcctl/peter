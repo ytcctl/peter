{
 "cells": [
  {
   "cell_type": "code",
   "execution_count": null,
   "id": "23afde6c",
   "metadata": {},
   "outputs": [
    {
     "data": {
      "text/plain": [
       "[(20, 48, 52), (24, 45, 51), (30, 40, 50)]"
      ]
     },
     "execution_count": 12,
     "metadata": {},
     "output_type": "execute_result"
    }
   ],
   "source": [
    "# Problem 1\n",
    "# Write a Python program which takes one user input integer n (0 <= n <=100,000)\n",
    "# and find all right-angled triangles with integer side lengths whose perimeter is n.\n",
    "# Input: \n",
    "#       - The program reads one integer from user.\n",
    "# Output:\n",
    "#       - Each triangle should be denoted by its three side lengths a, b, c, and d, where a <= b <= c.\n",
    "#       - The program should output all unique triangles, ordered by side lengths a, b, then c.\n",
    "#       - The program should output \"No triangle found\" when there is no result.\n",
    "\n",
    "def right_triangle_finder(n):\n",
    "    assert 0 <= n <= 100000, \"n must be between 0 and 100,000\"\n",
    "    triangles = []\n",
    "    for x in range(1, n):\n",
    "        for y in range (x, n):\n",
    "            z = (x**2 + y**2)**0.5\n",
    "            if z.is_integer() and z <= n and x + y + z == n:\n",
    "                triangles.append((x, y, int(z)))\n",
    "    if len(triangles) == 0:\n",
    "        return \"No triangle found\"\n",
    "    return triangles\n",
    "\n",
    "\n",
    "right_triangle_finder(120)"
   ]
  },
  {
   "cell_type": "code",
   "execution_count": null,
   "id": "85457bca",
   "metadata": {},
   "outputs": [
    {
     "data": {
      "text/plain": [
       "'4512345678901235 is invalid.'"
      ]
     },
     "execution_count": 17,
     "metadata": {},
     "output_type": "execute_result"
    }
   ],
   "source": [
    "# Write a Python program for validating credit card numbers using the Luhn algorithm\n",
    "# The steps to validate a credit number using the Luhn algorithm are as follows:\n",
    "# 1. Starting from the rightmost digit (that is the check digit), double the value of every second digit.\n",
    "# 2.  If the doubled value is a two-digit number, sum the digits of that number together to form a single digit.\n",
    "# 3. Add all the 16 digits together\n",
    "# 4. if the final sum is divisible by 10, then the credit card number is valid; if it is not divisible by 10, \n",
    "#    then the number is invalid or fake.\n",
    "\n",
    "# Input: \n",
    "#       - The program reads one credit card number from user.\n",
    "#       - You can assume that the input is always a 16--digit number. and each digit is in the range [0,9].\n",
    "#         There is no need to consider invvalid inputs. \n",
    "# Output:\n",
    "#       - The program should output a message reporting the validility of the credit card number. \n",
    "\n",
    "def check_credit_card(credit_card_number):\n",
    "  str_credit_card_number = str(credit_card_number)\n",
    "  if len(str_credit_card_number) != 16:\n",
    "    return str_credit_card_number + \" is invalid.\"\n",
    "  list_card_digit = [int(d) for d in str_credit_card_number]\n",
    "  list_card_digit.reverse()\n",
    "  a = 0\n",
    "  b = 0\n",
    "\n",
    "  for i in range(0,16, 2):\n",
    "    a += list_card_digit[i]\n",
    "\n",
    "\n",
    "  for j in range(1,16, 2):\n",
    "      num = (list_card_digit[j] * 2)\n",
    "      if num <10:\n",
    "        a += num\n",
    "      else:\n",
    "        num_list = [int(k) for k in str(num)]\n",
    "        a += (num_list[0] + num_list[1])\n",
    "\n",
    "  if a % 10 == 0:\n",
    "    return str_credit_card_number + \" is valid.\"\n",
    "  else:\n",
    "    return str_credit_card_number + \" is invalid.\"\n",
    "\n",
    "check_credit_card(4512345678901235)"
   ]
  },
  {
   "cell_type": "code",
   "execution_count": 3,
   "id": "5671e099",
   "metadata": {},
   "outputs": [
    {
     "data": {
      "text/plain": [
       "'EHORTU'"
      ]
     },
     "execution_count": 3,
     "metadata": {},
     "output_type": "execute_result"
    }
   ],
   "source": [
    "# Write a Python program that reads one input line and analyze the letter frequency. \n",
    "# Input: \n",
    "#       - The program reads one input line tht may contain any symbol\n",
    "#       - You can assume that the input has at least one valid letter (a-z, A-Z).\n",
    "# Output:\n",
    "#       - The program should output the top 5 frequently occuring letters in upper case, ordered alphabetically.\n",
    "#       - Frequency analysis should be case insensitive\n",
    "#       - If there is a draw, all letters with the same count should be included in the output.\n",
    "\n",
    "\n",
    "import re\n",
    "\n",
    "def top_5_occur_letters(a_string):\n",
    "  a_string = re.sub(r\"[^a-zA-Z]\",\"\",a_string)\n",
    "  a_string = a_string.upper()\n",
    "  a_string_list = list(a_string)\n",
    "  a_string_set = set(a_string_list)\n",
    "  \n",
    "  string_dict ={}\n",
    "  for i in a_string_set:\n",
    "    k = 0\n",
    "    for j in a_string_list:\n",
    "      if i == j: \n",
    "        k += 1\n",
    "    string_dict[i] = k\n",
    "  \n",
    "  values_count = string_dict.values()\n",
    "  values_count_set = set(values_count)\n",
    "  \n",
    "  values_count_dict = {}\n",
    "  for i in values_count_set:\n",
    "    k = 0\n",
    "    for j in values_count:\n",
    "      if i == j:\n",
    "        k += 1\n",
    "    values_count_dict[i] = k\n",
    "\n",
    "  Top5_value = []\n",
    "  check = 0\n",
    "  for k, v in sorted(values_count_dict.items(), reverse=True):\n",
    "    Top5_value.append(k)\n",
    "    check += v\n",
    "    if check >= 5: break\n",
    "  \n",
    "  Top5 = []\n",
    "  for k, v in string_dict.items():\n",
    "    for j in Top5_value:\n",
    "      if v == j:\n",
    "        Top5.append(k)\n",
    "  \n",
    "  Top5 = sorted(Top5)\n",
    "  Top5 = \"\".join(Top5)\n",
    "    \n",
    "\n",
    "  return Top5\n",
    "\n",
    "top_5_occur_letters(\"The quick brown fox jumps over the lazy dog\")"
   ]
  },
  {
   "cell_type": "code",
   "execution_count": null,
   "id": "7405d477",
   "metadata": {},
   "outputs": [],
   "source": []
  }
 ],
 "metadata": {
  "kernelspec": {
   "display_name": "Python 3",
   "language": "python",
   "name": "python3"
  },
  "language_info": {
   "codemirror_mode": {
    "name": "ipython",
    "version": 3
   },
   "file_extension": ".py",
   "mimetype": "text/x-python",
   "name": "python",
   "nbconvert_exporter": "python",
   "pygments_lexer": "ipython3",
   "version": "3.10.12"
  }
 },
 "nbformat": 4,
 "nbformat_minor": 5
}
